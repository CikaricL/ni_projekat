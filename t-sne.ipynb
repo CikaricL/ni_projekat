{
 "cells": [
  {
   "cell_type": "markdown",
   "id": "1f773072",
   "metadata": {},
   "source": [
    "## t-SNE algoritam\n",
    "\n",
    "t-distributed stochastic neighbor embedding (t-SNE) je nelinearni algoritam za smanjenje dimenzionalnosti koji se koristi za istraživanje visoko-dimenzionalnih podataka. Ovaj algoritam preslikava podatke u prostor niže dimenzije uz održavanje važnog odnosa između podataka: što su objekti bliži u originalnom prostoru, to je manja udaljenost između njih u redukovanom prostoru. Jednostavnije rečeno, t-sne daje ideju o tome kako su podaci raspoređeni u višedimezionalnom prostoru. Razvili su ga Laurens van der Maaten i Geoffrey Hinton 2008 godine."
   ]
  },
  {
   "cell_type": "code",
   "execution_count": null,
   "id": "56a59d90",
   "metadata": {},
   "outputs": [],
   "source": []
  },
  {
   "cell_type": "markdown",
   "id": "bd783789",
   "metadata": {},
   "source": [
    "### Matematička pozadina\n",
    "\n",
    "t-sne algoritam za dati skup $N$ visoko-dimenzionalnih objekata $x_1,..x_N$ prvo izračunava uslovnu verovatnoću $p_{ij}$ koja je proporcionalna sličnosti objekata $x_i$ i $x_j$.\n",
    "Za $i\\neq j$ se definiše $p_{j|i}=\\frac{\\exp{\\frac{-||x_i-x_j||^2}{2\\sigma_i^2}}}{\\sum_{k\\neq i}{\\exp{\\frac{-||x_i-x_k||^2}{2\\sigma_i^2}}}}$ i postavlja se $p_{i|i}=0$. Takođe treba napomenuti da je $\\sum_{j}{p_{j|i}}=1$ za sve $i$. Dakle ova jednačina meri koliko je $x_j$ blizu $x_i$ uzimajući u obzir Gausovu raspodelu oko tačke $x_i$ uz datu varijansu $\\sigma_i^2$. Varijansa je različita za svaku tačku i izabrana je tako da tačke u gustim oblastima dobiju manju varijansu od tačaka u retkim oblastima. \n",
    "\n",
    "Sada definišemo $p_{ij}=\\frac{p_{j|i}+p_{i|j}}{2N}$ pri čemu važi $p_{ji}=p_{ij}$ i $\\sum_{i,j}{p_{ij}}=1$.\n",
    "\n",
    "\n",
    "Sledeći deo je formiranje nisko-dimenzionalnog prostora sa istim brojem tačaka kao i u originalnom prostoru. t-sne ima za cilj da u redukovanom prostoru između tačaka $y_1$ i $y_j$, koje odgovaraju tačkama $x_i$ i $x_j$ redom, održava sličnosti $p_{ij}$ kad god je moguće. U tu svrhu meri sličnosti $q_{ij}$ između tačaka $y_i$ i $y_j$ koristeći sličan pristup. Konkretno za $i \\neq j$ se definiše $q_{ij}=\\frac{(1+||y_i-y_j||^2)^{-1}}{\\sum_{k}{\\sum_{l\\neq k}{(1+||y_k-y_l||^2)^{-1}}}}$ i postavlja $q_{ii}=0$. Ovde se koristi studentska t-raspodela za merenje sličnosti između nisko-dimenzionalnih tačaka kako bi se omogućilo da se različiti objekti modeliraju daleko jedan od drugog.\n",
    "\n",
    "Lokacije tačaka $y_1,...,y_N$ se određuju minimizacijom nesimetrične Kullback-Leibler divergencije između dve raspodele $(p_{ij})$ i $(q_{ij})$: $KL(P||Q)=\\sum_{i\\neq j}{p_{ij}log\\frac{p_{ij}}{q_{ij}}}$.\n",
    "\n",
    "Minimizacija Kullback-Leibler divergencije u odnosu na tačke $y_i$ se izvodi pomoću gradijentnog spusta. Rezultat optimizacije je matrica koja odražava sličnosti između visoko-dimenzionih tačaka."
   ]
  },
  {
   "cell_type": "code",
   "execution_count": null,
   "id": "951a5461",
   "metadata": {},
   "outputs": [],
   "source": []
  },
  {
   "cell_type": "markdown",
   "id": "02918b36",
   "metadata": {},
   "source": [
    "### Primer"
   ]
  },
  {
   "cell_type": "code",
   "execution_count": 1,
   "id": "1325540e",
   "metadata": {},
   "outputs": [],
   "source": [
    "import numpy as np\n",
    "from matplotlib import pyplot as plt\n",
    "from sklearn.manifold import TSNE\n",
    "from sklearn.datasets import load_iris"
   ]
  },
  {
   "cell_type": "markdown",
   "id": "d60e4a2a",
   "metadata": {},
   "source": [
    "Dataset Iris je sačinjen od 50 uzoraka iz svake od tri vrste perunike (Iris setosa, Iris virginica i Iris versicolor). Za svaki uzorak izmerene su karakteristike: dužina i širina čašičnih i kruničnih listića (u centrimetrima)."
   ]
  },
  {
   "cell_type": "code",
   "execution_count": 2,
   "id": "a5e8b88e",
   "metadata": {},
   "outputs": [],
   "source": [
    "iris = load_iris()"
   ]
  },
  {
   "cell_type": "markdown",
   "id": "ac335ffd",
   "metadata": {},
   "source": [
    "Skup podataka sadrži 150 redova i 5 kolona. Kolona \"vrsta\" govori kojoj vrsti pripada uzorak."
   ]
  },
  {
   "cell_type": "code",
   "execution_count": 3,
   "id": "625827ba",
   "metadata": {},
   "outputs": [],
   "source": [
    "x = iris.data\n",
    "y = iris.target"
   ]
  },
  {
   "cell_type": "code",
   "execution_count": 4,
   "id": "664b47d8",
   "metadata": {},
   "outputs": [
    {
     "data": {
      "text/plain": [
       "(150, 4)"
      ]
     },
     "execution_count": 4,
     "metadata": {},
     "output_type": "execute_result"
    }
   ],
   "source": [
    "x.shape"
   ]
  },
  {
   "cell_type": "markdown",
   "id": "8ff91241",
   "metadata": {},
   "source": [
    "### Bibliotetčka podrška\n",
    "\n",
    "\n",
    "Za primenu t-sne algoritma postoji ugrađena klasa python biblioteke sclearn koja se naziva TSNE.\n",
    "\n",
    "class sklearn.manifold.TSNE\n",
    "\n",
    "Neki od parametara funkcije:\n",
    "* **n_components:** int, default=2  \n",
    "    dimenzija redukovanog prostora\n",
    "* **perplexity:** float, default=30.0  \n",
    "    pomoću ovog parametra moguće je podesiti osetljivost modela na lokalne ili globalne obrasce podataka. ako je perplexity mala, model će dobro izolovati male grupe sličnih objekata. ako je velika, velike. parametar je u izvesnom smislu analogan broju najbližih suseda. \n",
    "    izabrati vrednost u rasponu od 5 do 50\n",
    "* **early_exaggeration:** float, default=12.0  \n",
    "    kontroliše koliko su čvrsti prirodni klasteri u originalnom prostoru, u redukovanom prostoru i koliko će prostora biti između njih\n",
    "* **learning_rate:** float, default=200.0  \n",
    "    stopa učenja za t-SNE u opsegu od 10.0 do 1000.0\n",
    "* **n_iter:** int, default=1000  \n",
    "    maksimalan broj iteracija za optimizaciju. trebalo bi da bude najmanje 250\n",
    "* **n_iter_without_progress:** int, default=300  \n",
    "    maksimalan broj iteracija bez napretka pre nego što prekinemo optimizaciju. treba imati na umu da se napredak proverava na svakih 50 iteracija\n",
    "* **min_grad_norm:** float, default=1e-7  \n",
    "    ako je norma gradijenta ispod ovog praga, optimizacija će se zaustaviti\n",
    "* **metric:** str or callable, default=’euclidean’  \n",
    "    metrika koja se koristi pri izračunavanju udaljenosti\n",
    "    "
   ]
  },
  {
   "cell_type": "code",
   "execution_count": 5,
   "id": "5fd100ea",
   "metadata": {},
   "outputs": [],
   "source": [
    "tsne = TSNE(n_components=2, perplexity=30.0)"
   ]
  },
  {
   "cell_type": "code",
   "execution_count": 6,
   "id": "ba0300b2",
   "metadata": {},
   "outputs": [],
   "source": [
    "x_tsne = tsne.fit_transform(x)"
   ]
  },
  {
   "cell_type": "code",
   "execution_count": 7,
   "id": "4bb71a9d",
   "metadata": {},
   "outputs": [
    {
     "data": {
      "text/plain": [
       "(150, 2)"
      ]
     },
     "execution_count": 7,
     "metadata": {},
     "output_type": "execute_result"
    }
   ],
   "source": [
    "x_tsne.shape"
   ]
  },
  {
   "cell_type": "code",
   "execution_count": 8,
   "id": "2280e38a",
   "metadata": {},
   "outputs": [
    {
     "data": {
      "image/png": "[encoded data removed]",
      "text/plain": [
       "<Figure size 432x288 with 1 Axes>"
      ]
     },
     "metadata": {
      "needs_background": "light"
     },
     "output_type": "display_data"
    }
   ],
   "source": [
    "plt.scatter(x_tsne[:, 0], x_tsne[:, 1], c=y)\n",
    "plt.title('Podaci u prostoru dimenzionalnosti k=2')\n",
    "plt.show()"
   ]
  },
  {
   "cell_type": "markdown",
   "id": "367fafd8",
   "metadata": {},
   "source": [
    "Možemo videti da je t-sne dobro formirao različite grupe od naših podataka prema različitim vrstama perunike."
   ]
  },
  {
   "cell_type": "markdown",
   "id": "7b572aa5",
   "metadata": {},
   "source": [
    "### Upotreba\n",
    "\n",
    "t-sne se može koristiti na gotovo svim skupovima podataka velikih dimenzija. Široko se primenjuje u obradi slika i govora, genomskim podacima. Koristi se i za poboljšanje analize skeniranja srca i mozga."
   ]
  },
  {
   "cell_type": "markdown",
   "id": "a00386d6",
   "metadata": {},
   "source": [
    "### Složenost\n",
    "\n",
    "Algoritam ima kvadratnu vremensku i prostornu složenost po broju tačaka podataka."
   ]
  },
  {
   "cell_type": "markdown",
   "id": "9b97daae",
   "metadata": {},
   "source": [
    "### Literatura\n",
    "\n",
    "https://www.analyticsvidhya.com/blog/2017/01/t-sne-implementation-r-python/  \n",
    "https://www.oreilly.com/content/an-illustrated-introduction-to-the-t-sne-algorithm/"
   ]
  },
  {
   "cell_type": "code",
   "execution_count": null,
   "id": "8fb6bed1",
   "metadata": {},
   "outputs": [],
   "source": []
  }
 ],
 "metadata": {
  "kernelspec": {
   "display_name": "Python 3",
   "language": "python",
   "name": "python3"
  },
  "language_info": {
   "codemirror_mode": {
    "name": "ipython",
    "version": 3
   },
   "file_extension": ".py",
   "mimetype": "text/x-python",
   "name": "python",
   "nbconvert_exporter": "python",
   "pygments_lexer": "ipython3",
   "version": "3.8.8"
  }
 },
 "nbformat": 4,
 "nbformat_minor": 5
}
